{
 "cells": [
  {
   "cell_type": "markdown",
   "id": "14d8de88",
   "metadata": {},
   "source": [
    "## Hartree Fock \n",
    "\n",
    "FC = eSC\n",
    "\n",
    "F = T + V_ne + V_ee                         \n",
    "->Fock matrix acts on the splitted primitve basis functions ( Gaussian functions) \n",
    "\n",
    "S = overlap matrix:                    \n",
    "C matrix is the coeffient matrix, the rows contain the atomic orbital bases\n",
    "and the number of rows and columns are equal to number of total atomic basis functions \n",
    "\n",
    "\n",
    "for H2 and H2O\n",
    "\n",
    "Note: atomic orbital are described with the slater functions, which themselves are L.C. of gaussian functions\n",
    "and interestingly the atomic orbitals also might be described with multiple slater fucntions: 6-31G"
   ]
  },
  {
   "cell_type": "code",
   "execution_count": 2,
   "id": "a952d301",
   "metadata": {},
   "outputs": [],
   "source": [
    "import sys\n",
    "import numpy as np"
   ]
  },
  {
   "cell_type": "code",
   "execution_count": 3,
   "id": "9239b261",
   "metadata": {},
   "outputs": [],
   "source": [
    "class primitive_gaussian():\n",
    "    \n",
    "    def __init__(self, alpha, coeff, coordinates, l1, l2, l3):\n",
    "    \n",
    "        self.alpha = alpha\n",
    "        self.coeff = coeff\n",
    "        self. coordinates = np.array(coordinates)\n",
    "        self.l1 = l1\n",
    "        self.l2 = l2\n",
    "        self.l3 = l3\n",
    "        # Normalisation constant\n",
    "        self.A = (2.0* alpha / np.pi) ** 0.75  # + other terms when we have l1, l2 ,l3 (for p orbital, d orbital)\n",
    "        "
   ]
  },
  {
   "cell_type": "code",
   "execution_count": 12,
   "id": "5923dac6",
   "metadata": {},
   "outputs": [],
   "source": [
    "# Overlap matrix\n",
    "def overlap(molecule):\n",
    "    \n",
    "    n_basis = len(molecule)\n",
    "    \n",
    "    S = np.zeros((n_basis, n_basis))\n",
    "   \n",
    "    # looping over the T matrix, whose rows and columns are equal to number of atomic slater fucntions\n",
    "    for i in range(n_basis):\n",
    "        for j in  range(n_basis):\n",
    "            \n",
    "            \n",
    "             # taking account of all the primitive(gaussian fucntions) bases present in the atomic slater function  \n",
    "           \n",
    "            nprimitives_i = len(molecule[i])   # number of gaussian describing the ith slater fucntion\n",
    "            nprimitives_j = len(molecule[j])    # number of gaussian describing the jth slater function\n",
    "            \n",
    "            for k in range(nprimitives_i):\n",
    "                for l in range(nprimitives_j):\n",
    "                  \n",
    "                    N = molecule[i][k].A * molecule[j][l].A\n",
    "                    \n",
    "                    p = molecule[i][k].alpha + molecule[j][l].alpha\n",
    "                    q = molecule[i][k].alpha * molecule[j][l].alpha / p\n",
    "                    \n",
    "                    Q = molecule[i][k].coordinates - molecule[j][l].coordinates\n",
    "                    Q2 = np.dot(Q, Q)\n",
    "                    \n",
    "                    S[i,j] += N* molecule[i][k].coeff * molecule[j][l].coeff * np.exp(-q*Q2) * (np.pi/p)**(3/2)                  \n",
    "    \n",
    "    return S"
   ]
  },
  {
   "cell_type": "code",
   "execution_count": 13,
   "id": "1eba9e19",
   "metadata": {},
   "outputs": [
    {
     "name": "stdout",
     "output_type": "stream",
     "text": [
      "[[1.         0.65931821]\n",
      " [0.65931821 1.        ]]\n"
     ]
    }
   ],
   "source": [
    "# STO-3G basis for 1s orbital on hydrogen\n",
    "# These are descriptions of atomic orbital basis \n",
    "                            # Alpha,           # coeff            # Coord   # angular momentum\n",
    "H1_pg1a = primitive_gaussian (0.3425250914E+01, 0.1543289673E+00, [0,0,0], 0, 0, 0)\n",
    "H1_pg1b = primitive_gaussian (0.6239137298E+00 , 0.5353281423E+00, [0,0,0], 0, 0, 0)\n",
    "H1_pg1c = primitive_gaussian (0.1688554040E+00, 0.4446345422E+00, [0,0,0], 0, 0, 0)\n",
    "\n",
    "H2_pg1a = primitive_gaussian (0.3425250914E+01, 0.1543289673E+00, [1.4,0,0], 0, 0, 0)\n",
    "H2_pg1b = primitive_gaussian (0.6239137298E+00 , 0.5353281423E+00, [1.4,0,0], 0, 0, 0)\n",
    "H2_pg1c = primitive_gaussian (0.1688554040E+00, 0.4446345422E+00, [1.4,0,0], 0, 0, 0)\n",
    "\n",
    "H1_1s = [H1_pg1a, H1_pg1b, H1_pg1c]\n",
    "H2_1s = [H2_pg1a, H2_pg1b, H2_pg1c]\n",
    "\n",
    "molecule = [H1_1s, H2_1s]\n",
    "\n",
    "# type(molecule)\n",
    "# len(molecule[0])\n",
    "\n",
    "integral_S = overlap(molecule)\n",
    "print(integral_S)"
   ]
  },
  {
   "cell_type": "code",
   "execution_count": 14,
   "id": "b0ba2862",
   "metadata": {},
   "outputs": [
    {
     "name": "stdout",
     "output_type": "stream",
     "text": [
      "[[1.         0.65829197 0.45453898 0.5087616 ]\n",
      " [0.65829197 1.         0.5087616  0.85380521]\n",
      " [0.45453898 0.5087616  1.         0.65829197]\n",
      " [0.5087616  0.85380521 0.65829197 1.        ]]\n"
     ]
    }
   ],
   "source": [
    "# 6-31G basis for 1s and 2s orbitals on hydrogen\n",
    "\n",
    "H1_pg1a = primitive_gaussian (0.1873113696E+02, 0.3349460434E-01, [0,0,0], 0, 0, 0)\n",
    "H1_pg1b = primitive_gaussian (0.2825394365E+01  , 0.2347269535E+00, [0,0,0], 0, 0, 0)\n",
    "H1_pg1c = primitive_gaussian (0.6401216923E+00, 0.8137573261E+00, [0,0,0], 0, 0, 0)\n",
    "H1_pg2a = primitive_gaussian (0.1612777588E+00, 1.0000000, [0,0,0], 0, 0, 0)\n",
    "\n",
    "H2_pg1a = primitive_gaussian (0.1873113696E+02, 0.3349460434E-01, [1.4,0,0], 0, 0, 0)\n",
    "H2_pg1b = primitive_gaussian (0.2825394365E+01  , 0.2347269535E+00, [1.4,0,0], 0, 0, 0)\n",
    "H2_pg1c = primitive_gaussian (0.6401216923E+00, 0.8137573261E+00, [1.4,0,0], 0, 0, 0)\n",
    "H2_pg2a = primitive_gaussian (0.1612777588E+00, 1.0000000, [1.4,0,0], 0, 0, 0)\n",
    "\n",
    "H1_1s = [H1_pg1a, H1_pg1b, H1_pg1c]\n",
    "H1_2s = [H1_pg2a]\n",
    "H2_1s = [H2_pg1a, H2_pg1b, H2_pg1c]\n",
    "H2_2s = [H2_pg2a]\n",
    "\n",
    "\n",
    "molecule = [H1_1s, H1_2s, H2_1s,  H2_2s]\n",
    "\n",
    "integral_S = overlap(molecule)\n",
    "print(integral_S)"
   ]
  },
  {
   "cell_type": "code",
   "execution_count": null,
   "id": "66e5db21",
   "metadata": {},
   "outputs": [],
   "source": []
  },
  {
   "cell_type": "code",
   "execution_count": null,
   "id": "13cd28bd",
   "metadata": {},
   "outputs": [],
   "source": []
  },
  {
   "cell_type": "code",
   "execution_count": null,
   "id": "c5e6ed77",
   "metadata": {},
   "outputs": [],
   "source": []
  }
 ],
 "metadata": {
  "kernelspec": {
   "display_name": "Python 3",
   "language": "python",
   "name": "python3"
  },
  "language_info": {
   "codemirror_mode": {
    "name": "ipython",
    "version": 3
   },
   "file_extension": ".py",
   "mimetype": "text/x-python",
   "name": "python",
   "nbconvert_exporter": "python",
   "pygments_lexer": "ipython3",
   "version": "3.8.8"
  }
 },
 "nbformat": 4,
 "nbformat_minor": 5
}
