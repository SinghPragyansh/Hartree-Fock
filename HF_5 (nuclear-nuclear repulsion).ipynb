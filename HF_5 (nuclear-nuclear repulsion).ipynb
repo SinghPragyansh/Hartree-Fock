{
 "cells": [
  {
   "cell_type": "code",
   "execution_count": 1,
   "id": "bd9dd3a6",
   "metadata": {},
   "outputs": [],
   "source": [
    "import numpy as np \n",
    "import sys\n",
    "from scipy import linalg\n",
    "from scipy import special\n",
    "import math"
   ]
  },
  {
   "cell_type": "code",
   "execution_count": 65,
   "id": "b133fc0f",
   "metadata": {},
   "outputs": [],
   "source": [
    "def nuclear_nuclear_repulsion_energy(atom_cooridnates, zlist):\n",
    "    \n",
    "    assert (len(atom_coordinates) == len(zlist))\n",
    "    natoms = len(zlist)\n",
    "    E_NN = 0\n",
    "    \n",
    "    for i in range(natoms):\n",
    "        Zi = zlist[i]\n",
    "        for j in range(natoms):\n",
    "            if j > i:\n",
    "                Zj = zlist[j]\n",
    "                \n",
    "                Rijx = atom_coordinates[i][0] - atom_coordinates[j][0]\n",
    "                Rijy = atom_coordinates[i][1] - atom_coordinates[j][1]\n",
    "                Rijz = atom_coordinates[i][2] - atom_coordinates[j][2]\n",
    "                \n",
    "                Rijx_squared = Rijx*Rijx\n",
    "                Rijy_squared = Rijy*Rijy\n",
    "                Rijz_squared = Rijz*Rijz\n",
    "                \n",
    "                Rij = math.sqrt(Rijx_squared + Rijy_squared + Rijz_squared)\n",
    "                \n",
    "                E_NN += (Zi * Zj)/Rij\n",
    "                \n",
    "    return E_NN"
   ]
  },
  {
   "cell_type": "code",
   "execution_count": 68,
   "id": "25ef4bde",
   "metadata": {},
   "outputs": [],
   "source": [
    "# STO-3G basis for 1s orbital on hydrogen\n",
    "# These are descriptions of atomic orbital basis \n",
    "'''                            # Alpha,           # coeff            # Coord   # angular momentum\n",
    "H1_pg1a = primitive_gaussian (0.3425250914E+01, 0.1543289673E+00, [0,0,0], 0, 0, 0)\n",
    "H1_pg1b = primitive_gaussian (0.6239137298E+00 , 0.5353281423E+00, [0,0,0], 0, 0, 0)\n",
    "H1_pg1c = primitive_gaussian (0.1688554040E+00, 0.4446345422E+00, [0,0,0], 0, 0, 0)\n",
    "\n",
    "H2_pg1a = primitive_gaussian (0.3425250914E+01, 0.1543289673E+00, [1.0,0,0.0], 0, 0, 0)\n",
    "H2_pg1b = primitive_gaussian (0.6239137298E+00 , 0.5353281423E+00, [1.0,0,0.0], 0, 0, 0)\n",
    "H2_pg1c = primitive_gaussian (0.1688554040E+00, 0.4446345422E+00, [1.0,0,0.0], 0, 0, 0)\n",
    "\n",
    "H1_1s = [H1_pg1a, H1_pg1b, H1_pg1c]  # Describing the atomic orbital with slater function\n",
    "H2_1s = [H2_pg1a, H2_pg1b, H2_pg1c]\n",
    "'''\n",
    "zlist = [1.0, 1.0]\n",
    "atom_coordinates = np.array([0.0, 0.0, 0.0]), np.array([1.4, 0.0, 0.0])\n",
    "molecule = [H1_1s, H2_1s]"
   ]
  },
  {
   "cell_type": "code",
   "execution_count": 69,
   "id": "9353780c",
   "metadata": {},
   "outputs": [
    {
     "name": "stdout",
     "output_type": "stream",
     "text": [
      "0.7142857142857143\n"
     ]
    }
   ],
   "source": [
    "nn_repulsion = nuclear_nuclear_repulsion_energy(atom_coordinates, zlist)\n",
    "print(nn_repulsion)"
   ]
  },
  {
   "cell_type": "code",
   "execution_count": null,
   "id": "8bd8c51d",
   "metadata": {},
   "outputs": [],
   "source": []
  },
  {
   "cell_type": "code",
   "execution_count": null,
   "id": "b523a5e6",
   "metadata": {},
   "outputs": [],
   "source": []
  },
  {
   "cell_type": "code",
   "execution_count": null,
   "id": "c137463f",
   "metadata": {},
   "outputs": [],
   "source": []
  }
 ],
 "metadata": {
  "kernelspec": {
   "display_name": "Python 3",
   "language": "python",
   "name": "python3"
  },
  "language_info": {
   "codemirror_mode": {
    "name": "ipython",
    "version": 3
   },
   "file_extension": ".py",
   "mimetype": "text/x-python",
   "name": "python",
   "nbconvert_exporter": "python",
   "pygments_lexer": "ipython3",
   "version": "3.8.8"
  }
 },
 "nbformat": 4,
 "nbformat_minor": 5
}
