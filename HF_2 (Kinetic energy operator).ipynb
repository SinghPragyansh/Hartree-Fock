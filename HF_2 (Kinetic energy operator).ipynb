{
 "cells": [
  {
   "cell_type": "markdown",
   "id": "31c9f62a",
   "metadata": {},
   "source": [
    "## Hartree Fock \n",
    "\n",
    "FC = eSC\n",
    "\n",
    "F = T + V_ne + V_ee                         \n",
    "->Fock matrix acts on the splitted primitive basis functions ( Gaussian functions) \n",
    "\n",
    "S = overlap matrix\n",
    "C matrix is the coeffient matrix, the rows contain the atomic slater bases\n",
    "\n",
    "\n",
    "for H2 and then H2O\n",
    "\n",
    "T = Kinetic energy matrix, where number of rows and number of column are equal to total number of slater functions\n",
    "\n",
    "Note: atomic orbital are described with the slater functions, which themselves are L.C. of gaussian functions\n",
    "and interestingly the atomic orbitals also might be described with multiple slater fucntions: 6-31G"
   ]
  },
  {
   "cell_type": "code",
   "execution_count": 5,
   "id": "d1eb67eb",
   "metadata": {},
   "outputs": [],
   "source": [
    "import sys\n",
    "import numpy as np"
   ]
  },
  {
   "cell_type": "code",
   "execution_count": 6,
   "id": "6e3ca8b5",
   "metadata": {},
   "outputs": [],
   "source": [
    "class primitive_gaussian():\n",
    "    \n",
    "    def __init__(self, alpha, coeff, coordinates, l1, l2, l3):\n",
    "    \n",
    "        self.alpha = alpha\n",
    "        self.coeff = coeff\n",
    "        self. coordinates = np.array(coordinates)\n",
    "        self.l1 = l1\n",
    "        self.l2 = l2\n",
    "        self.l3 = l3\n",
    "        # Normalisation constant\n",
    "        self.A = (2.0* alpha / np.pi) ** 0.75  # + other terms when we have l1, l2 ,l3 (for p orbital, d orbital)\n",
    "        "
   ]
  },
  {
   "cell_type": "code",
   "execution_count": 18,
   "id": "1a543b69",
   "metadata": {},
   "outputs": [],
   "source": [
    "def kinetic(molecule):\n",
    "    nbasis = len(molecule)\n",
    "    \n",
    "    T = np.zeros([nbasis, nbasis])\n",
    "\n",
    "   \n",
    "    # looping over the T matrix, whose rows and columns are equal to number of atomic slater fucntions\n",
    "    \n",
    "    for i in range(nbasis):            # row of matrix\n",
    "        for j in range(nbasis):        # column of matrix\n",
    "            \n",
    "            # taking account of all the primitive(gaussian fucntions) bases present in the atomic slater function  \n",
    "            \n",
    "            nprimitives_i = len(molecule[i])   # number of gaussian describing the ith slater fucntion\n",
    "            nprimitives_j = len(molecule[j])    # number of gaussian describing the jth slater function\n",
    "            \n",
    "            for k in range(nprimitives_i):\n",
    "                for l in range(nprimitives_j):\n",
    "                    \n",
    "                    c1c2 = molecule[i][k].coeff * molecule[j][l].coeff\n",
    "                    N = molecule[i][k].A * molecule[j][l].A\n",
    "                    p = molecule[i][k].alpha + molecule[j][l].alpha\n",
    "                    q = molecule[i][k].alpha * molecule[j][l].alpha / p\n",
    "                    Q = molecule[i][k].coordinates - molecule[j][l].coordinates\n",
    "                    Q2 = np.dot(Q, Q)\n",
    "                    \n",
    "                    P = molecule[i][k].alpha * molecule[i][k].coordinates + molecule[j][l].alpha * molecule[j][l].coordinates\n",
    "                    Pp = P / p\n",
    "                    PG = Pp - molecule[j][l].coordinates\n",
    "                    PGx_2 = PG[0] * PG[0]\n",
    "                    PGy_2 = PG[1] * PG[1]\n",
    "                    PGz_2 = PG[2] * PG[2]\n",
    "                    \n",
    "                    \n",
    "                    s = N * c1c2* np.exp(-q*Q2) * (np.pi/p)**(3/2)\n",
    "                    \n",
    "                    T[i,j] += 3 * molecule[j][l].alpha*s\n",
    "                    T[i,j] -= 2 * molecule[j][l].alpha*molecule[j][l].alpha *s * (PGx_2 + 0.5/p)\n",
    "                    T[i,j] -= 2 * molecule[j][l].alpha*molecule[j][l].alpha *s * (PGy_2 + 0.5/p)\n",
    "                    T[i,j] -= 2 * molecule[j][l].alpha*molecule[j][l].alpha *s * (PGz_2 + 0.5/p)\n",
    "                    \n",
    "    return T"
   ]
  },
  {
   "cell_type": "code",
   "execution_count": 19,
   "id": "cad760bd",
   "metadata": {},
   "outputs": [
    {
     "name": "stdout",
     "output_type": "stream",
     "text": [
      "[[0.76003188 0.23645466]\n",
      " [0.23645466 0.76003188]]\n"
     ]
    }
   ],
   "source": [
    "# STO-3G basis for 1s orbital on hydrogen\n",
    "# These are descriptions of atomic orbital basis \n",
    "                            # Alpha,           # coeff            # Coord   # angular momentum\n",
    "H1_pg1a = primitive_gaussian (0.3425250914E+01, 0.1543289673E+00, [0,0,0], 0, 0, 0)\n",
    "H1_pg1b = primitive_gaussian (0.6239137298E+00 , 0.5353281423E+00, [0,0,0], 0, 0, 0)\n",
    "H1_pg1c = primitive_gaussian (0.1688554040E+00, 0.4446345422E+00, [0,0,0], 0, 0, 0)\n",
    "\n",
    "H2_pg1a = primitive_gaussian (0.3425250914E+01, 0.1543289673E+00, [1.4,0,0], 0, 0, 0)\n",
    "H2_pg1b = primitive_gaussian (0.6239137298E+00 , 0.5353281423E+00, [1.4,0,0], 0, 0, 0)\n",
    "H2_pg1c = primitive_gaussian (0.1688554040E+00, 0.4446345422E+00, [1.4,0,0], 0, 0, 0)\n",
    "\n",
    "H1_1s = [H1_pg1a, H1_pg1b, H1_pg1c]\n",
    "H2_1s = [H2_pg1a, H2_pg1b, H2_pg1c]\n",
    "\n",
    "molecule = [H1_1s, H2_1s]\n",
    "\n",
    "# type(molecule)\n",
    "# len(molecule[0])\n",
    "\n",
    "T_integral = kinetic(molecule)\n",
    "print(T_integral)"
   ]
  },
  {
   "cell_type": "code",
   "execution_count": 20,
   "id": "abfc51a1",
   "metadata": {},
   "outputs": [
    {
     "name": "stdout",
     "output_type": "stream",
     "text": [
      "[[1.39567838 0.259735   0.23200115 0.16601725]\n",
      " [0.259735   0.24191664 0.16601725 0.18478593]\n",
      " [0.23200115 0.16601725 1.39567838 0.259735  ]\n",
      " [0.16601725 0.18478593 0.259735   0.24191664]]\n"
     ]
    }
   ],
   "source": [
    "# 6-31G basis for 1s and 2s orbitals on hydrogen\n",
    "\n",
    "H1_pg1a = primitive_gaussian (0.1873113696E+02, 0.3349460434E-01, [0,0,0], 0, 0, 0)\n",
    "H1_pg1b = primitive_gaussian (0.2825394365E+01  , 0.2347269535E+00, [0,0,0], 0, 0, 0)\n",
    "H1_pg1c = primitive_gaussian (0.6401216923E+00, 0.8137573261E+00, [0,0,0], 0, 0, 0)\n",
    "H1_pg2a = primitive_gaussian (0.1612777588E+00, 1.0000000, [0,0,0], 0, 0, 0)\n",
    "\n",
    "H2_pg1a = primitive_gaussian (0.1873113696E+02, 0.3349460434E-01, [1.4,0,0], 0, 0, 0)\n",
    "H2_pg1b = primitive_gaussian (0.2825394365E+01  , 0.2347269535E+00, [1.4,0,0], 0, 0, 0)\n",
    "H2_pg1c = primitive_gaussian (0.6401216923E+00, 0.8137573261E+00, [1.4,0,0], 0, 0, 0)\n",
    "H2_pg2a = primitive_gaussian (0.1612777588E+00, 1.0000000, [1.4,0,0], 0, 0, 0)\n",
    "\n",
    "H1_1s = [H1_pg1a, H1_pg1b, H1_pg1c]\n",
    "H1_2s = [H1_pg2a]\n",
    "H2_1s = [H2_pg1a, H2_pg1b, H2_pg1c]\n",
    "H2_2s = [H2_pg2a]\n",
    "\n",
    "\n",
    "molecule = [H1_1s, H1_2s, H2_1s,  H2_2s]\n",
    "\n",
    "T_integral = kinetic(molecule)\n",
    "print(T_integral)"
   ]
  },
  {
   "cell_type": "code",
   "execution_count": null,
   "id": "704674ed",
   "metadata": {},
   "outputs": [],
   "source": []
  },
  {
   "cell_type": "code",
   "execution_count": null,
   "id": "a61bb0cb",
   "metadata": {},
   "outputs": [],
   "source": []
  }
 ],
 "metadata": {
  "kernelspec": {
   "display_name": "Python 3",
   "language": "python",
   "name": "python3"
  },
  "language_info": {
   "codemirror_mode": {
    "name": "ipython",
    "version": 3
   },
   "file_extension": ".py",
   "mimetype": "text/x-python",
   "name": "python",
   "nbconvert_exporter": "python",
   "pygments_lexer": "ipython3",
   "version": "3.8.8"
  }
 },
 "nbformat": 4,
 "nbformat_minor": 5
}
