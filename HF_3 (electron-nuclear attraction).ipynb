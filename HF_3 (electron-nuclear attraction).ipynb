{
 "cells": [
  {
   "cell_type": "code",
   "execution_count": 1,
   "id": "9e5617ee",
   "metadata": {},
   "outputs": [],
   "source": [
    "# Hartree-Fock program v3"
   ]
  },
  {
   "cell_type": "markdown",
   "id": "b6677726",
   "metadata": {},
   "source": [
    "     FC = eSC\n",
    "     F = T + V_Ne + V_ee"
   ]
  },
  {
   "cell_type": "code",
   "execution_count": 2,
   "id": "e23eb2ab",
   "metadata": {},
   "outputs": [],
   "source": [
    "import sys\n",
    "import math\n",
    "import numpy as np\n",
    "from scipy import special "
   ]
  },
  {
   "cell_type": "code",
   "execution_count": 3,
   "id": "4c78a23b",
   "metadata": {},
   "outputs": [],
   "source": [
    "class primitive_gaussian():\n",
    "    \n",
    "    def __init__(self, alpha, coeff, coordinates, l1, l2, l3):\n",
    "    \n",
    "        self.alpha = alpha\n",
    "        self.coeff = coeff\n",
    "        self. coordinates = np.array(coordinates)\n",
    "        self.l1 = l1\n",
    "        self.l2 = l2\n",
    "        self.l3 = l3\n",
    "        # Normalisation constant\n",
    "        self.A = (2.0* alpha / np.pi) ** 0.75  # + other terms when we have l1, l2 ,l3 (for p orbital, d orbital)\n",
    "        "
   ]
  },
  {
   "cell_type": "code",
   "execution_count": 1,
   "id": "1ba380d5",
   "metadata": {},
   "outputs": [],
   "source": [
    "# Fourier transform\n",
    "def boys(x, n):\n",
    "    if x==0:\n",
    "        return 1.0/(2*n+1)\n",
    "    \n",
    "    else:\n",
    "        return special.gammainc(n+0.5, x) * special.gamma(n+0.5) * (1.0/(2*x**(n+0.5)))"
   ]
  },
  {
   "cell_type": "code",
   "execution_count": 2,
   "id": "c43755a8",
   "metadata": {},
   "outputs": [],
   "source": [
    "def electron_nuclear_attraction(molecule, atom_coordinates, Z):\n",
    "    \n",
    "    natoms = len(Z)\n",
    "    nbasis = len(molecule)\n",
    "    \n",
    "    V_ne = np.zeros((nbasis, nbasis))\n",
    "    \n",
    "    for atom in range(natoms):\n",
    "        for i in range(nbasis):            # row of matrix\n",
    "            for j in range(nbasis):        # column of matrix\n",
    "            \n",
    "            # taking account of all the primitive(gaussian functions) bases present in the atomic slater function  \n",
    "            \n",
    "                nprimitives_i = len(molecule[i])   # number of gaussian describing the ith slater fucntion\n",
    "                nprimitives_j = len(molecule[j])    # number of gaussian describing the jth slater function\n",
    "            \n",
    "                for k in range(nprimitives_i):\n",
    "                    for l in range(nprimitives_j):\n",
    "                    \n",
    "                        c1c2 = molecule[i][k].coeff * molecule[j][l].coeff\n",
    "                        N = molecule[i][k].A * molecule[j][l].A\n",
    "                        p = molecule[i][k].alpha + molecule[j][l].alpha\n",
    "                        q = molecule[i][k].alpha * molecule[j][l].alpha / p\n",
    "                        Q = molecule[i][k].coordinates - molecule[j][l].coordinates\n",
    "                        Q2 = np.dot(Q, Q)\n",
    "                    \n",
    "                        P = molecule[i][k].alpha * molecule[i][k].coordinates + molecule[j][l].alpha * molecule[j][l].coordinates\n",
    "                        Pp = P / p\n",
    "                        PG = Pp - atom_coordinates[atom]\n",
    "                        PG2 = np.dot(PG, PG)\n",
    "                    \n",
    "                        V_ne[i,j] +=  -Z[atom] *N * c1c2* np.exp(-q*Q2) * (2.0*np.pi/p)*boys(p*PG2, 0)\n",
    "                        \n",
    "    return V_ne"
   ]
  },
  {
   "cell_type": "code",
   "execution_count": 6,
   "id": "8820cd42",
   "metadata": {},
   "outputs": [
    {
     "name": "stdout",
     "output_type": "stream",
     "text": [
      "electron_nuclear attraction matrix:\n",
      " [[-1.88044089 -1.19483462]\n",
      " [-1.19483462 -1.88044089]]\n"
     ]
    }
   ],
   "source": [
    "# STO-3G basis for 1s orbital on hydrogen\n",
    "# These are descriptions of atomic orbital basis \n",
    "                            # Alpha,           # coeff            # Coord   # angular momentum\n",
    "H1_pg1a = primitive_gaussian (0.3425250914E+01, 0.1543289673E+00, [0,0,0], 0, 0, 0)\n",
    "H1_pg1b = primitive_gaussian (0.6239137298E+00 , 0.5353281423E+00, [0,0,0], 0, 0, 0)\n",
    "H1_pg1c = primitive_gaussian (0.1688554040E+00, 0.4446345422E+00, [0,0,0], 0, 0, 0)\n",
    "\n",
    "H2_pg1a = primitive_gaussian (0.3425250914E+01, 0.1543289673E+00, [1.4,0,0], 0, 0, 0)\n",
    "H2_pg1b = primitive_gaussian (0.6239137298E+00 , 0.5353281423E+00, [1.4,0,0], 0, 0, 0)\n",
    "H2_pg1c = primitive_gaussian (0.1688554040E+00, 0.4446345422E+00, [1.4,0,0], 0, 0, 0)\n",
    "\n",
    "H1_1s = [H1_pg1a, H1_pg1b, H1_pg1c]  # Describing the atomic orbital with slater function\n",
    "H2_1s = [H2_pg1a, H2_pg1b, H2_pg1c]\n",
    "\n",
    "Z = [1.0, 1.0]\n",
    "atom_coordinates = [np.array([0, 0, 0]), np.array([1.4, 0, 0])]\n",
    "molecule = [H1_1s, H2_1s]\n",
    "\n",
    "# type(molecule)\n",
    "# len(molecule[0])\n",
    "\n",
    "print(\"electron_nuclear attraction matrix:\\n\", electron_nuclear_attraction(molecule, atom_coordinates, Z))"
   ]
  },
  {
   "cell_type": "code",
   "execution_count": 7,
   "id": "fcf12141",
   "metadata": {},
   "outputs": [
    {
     "name": "stdout",
     "output_type": "stream",
     "text": [
      "electron_nuclear attraction matrix:\n",
      " [[-2.35561243 -1.18063294 -1.03966339 -0.94457307]\n",
      " [-1.18063294 -1.16883952 -0.94457307 -1.03930485]\n",
      " [-1.03966339 -0.94457307 -2.35561243 -1.18063294]\n",
      " [-0.94457307 -1.03930485 -1.18063294 -1.16883952]]\n"
     ]
    }
   ],
   "source": [
    "# 6-31G basis for 1s and 2s orbitals on hydrogen\n",
    "\n",
    "H1_pg1a = primitive_gaussian (0.1873113696E+02, 0.3349460434E-01, [0,0,0], 0, 0, 0)\n",
    "H1_pg1b = primitive_gaussian (0.2825394365E+01  , 0.2347269535E+00, [0,0,0], 0, 0, 0)\n",
    "H1_pg1c = primitive_gaussian (0.6401216923E+00, 0.8137573261E+00, [0,0,0], 0, 0, 0)\n",
    "H1_pg2a = primitive_gaussian (0.1612777588E+00, 1.0000000, [0,0,0], 0, 0, 0)\n",
    "\n",
    "H2_pg1a = primitive_gaussian (0.1873113696E+02, 0.3349460434E-01, [1.4,0,0], 0, 0, 0)\n",
    "H2_pg1b = primitive_gaussian (0.2825394365E+01  , 0.2347269535E+00, [1.4,0,0], 0, 0, 0)\n",
    "H2_pg1c = primitive_gaussian (0.6401216923E+00, 0.8137573261E+00, [1.4,0,0], 0, 0, 0)\n",
    "H2_pg2a = primitive_gaussian (0.1612777588E+00, 1.0000000, [1.4,0,0], 0, 0, 0)\n",
    "\n",
    "H1_1s = [H1_pg1a, H1_pg1b, H1_pg1c]\n",
    "H1_2s = [H1_pg2a]\n",
    "H2_1s = [H2_pg1a, H2_pg1b, H2_pg1c]\n",
    "H2_2s = [H2_pg2a]\n",
    "\n",
    "Z = [1.0, 1.0]\n",
    "atom_coordinates = [np.array([0, 0, 0]), np.array([1.4, 0, 0])]\n",
    "molecule = [H1_1s, H1_2s, H2_1s,  H2_2s]\n",
    "\n",
    "print(\"electron_nuclear attraction matrix:\\n\", electron_nuclear_attraction(molecule, atom_coordinates, Z))"
   ]
  },
  {
   "cell_type": "code",
   "execution_count": null,
   "id": "7ecae41d",
   "metadata": {},
   "outputs": [],
   "source": []
  }
 ],
 "metadata": {
  "kernelspec": {
   "display_name": "Python 3",
   "language": "python",
   "name": "python3"
  },
  "language_info": {
   "codemirror_mode": {
    "name": "ipython",
    "version": 3
   },
   "file_extension": ".py",
   "mimetype": "text/x-python",
   "name": "python",
   "nbconvert_exporter": "python",
   "pygments_lexer": "ipython3",
   "version": "3.8.8"
  }
 },
 "nbformat": 4,
 "nbformat_minor": 5
}
