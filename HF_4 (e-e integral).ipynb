{
 "cells": [
  {
   "cell_type": "code",
   "execution_count": 2,
   "id": "763ff1f1",
   "metadata": {},
   "outputs": [],
   "source": [
    "import numpy as np\n",
    "import math\n",
    "import sys\n",
    "from scipy import special\n",
    "from scipy import linalg"
   ]
  },
  {
   "cell_type": "code",
   "execution_count": 5,
   "id": "37023877",
   "metadata": {},
   "outputs": [],
   "source": [
    "class primitive_gaussian():\n",
    "    \n",
    "    def __init__(self, alpha, coeff, coordinates, l1, l2, l3):\n",
    "    \n",
    "        self.alpha = alpha\n",
    "        self.coeff = coeff\n",
    "        self. coordinates = np.array(coordinates)\n",
    "        self.l1 = l1\n",
    "        self.l2 = l2\n",
    "        self.l3 = l3\n",
    "        # Normalisation constant\n",
    "        self.A = (2.0* alpha / np.pi) ** 0.75  # + other terms when we have l1, l2 ,l3 (for p orbital, d orbital)\n",
    "        "
   ]
  },
  {
   "cell_type": "code",
   "execution_count": 6,
   "id": "33a93c6a",
   "metadata": {},
   "outputs": [],
   "source": [
    "def boys(x, n):\n",
    "    if x==0:\n",
    "        return 1.0/(2*n+1)\n",
    "    \n",
    "    else:\n",
    "        return special.gammainc(n+0.5, x) * special.gamma(n+0.5) * (1.0/(2*x**(n+0.5)))"
   ]
  },
  {
   "cell_type": "code",
   "execution_count": 22,
   "id": "62b0df0e",
   "metadata": {},
   "outputs": [],
   "source": [
    "# Note this integral is only for s-orbital systems, therefore no angular momentum terms\n",
    "\n",
    "def electron_electron_repulsion(molecule):\n",
    "    \n",
    "    nbasis = len(molecule)\n",
    "    \n",
    "    V_ee = np.zeros([nbasis, nbasis, nbasis, nbasis])\n",
    "    \n",
    "    # e-e integral repulsion matrix is 4-dimensional matrix\n",
    "    \n",
    "    for i in range(nbasis):\n",
    "        for j in range(nbasis):\n",
    "            for k in range(nbasis):\n",
    "                for l in range(nbasis):\n",
    "                    \n",
    "                    nprimitives_i = len(molecule[i])\n",
    "                    nprimitives_j = len(molecule[j])\n",
    "                    nprimitives_k = len(molecule[k])\n",
    "                    nprimitives_l = len(molecule[l])\n",
    "                    \n",
    "                    for ii in range(nprimitives_i):\n",
    "                        for jj in range(nprimitives_j):\n",
    "                            for kk in range(nprimitives_k):\n",
    "                                for ll in range(nprimitives_l):\n",
    "                                    \n",
    "                                    N = molecule[i][ii].A * molecule[j][jj].A * molecule[k][kk].A * molecule[l][ll].A\n",
    "                                    cicjckcl = molecule[i][ii].coeff * molecule[j][jj].coeff * molecule[k][kk].coeff * molecule[l][ll].coeff\n",
    "                                    \n",
    "                                    pij = molecule[i][ii].alpha + molecule[j][jj].alpha\n",
    "                                    pkl = molecule[k][kk].alpha + molecule[l][ll].alpha\n",
    "                                    \n",
    "                                    Pij = molecule[i][ii].alpha*molecule[i][ii].coordinates + molecule[j][jj].alpha*molecule[j][jj].coordinates \n",
    "                                    Pkl = molecule[k][kk].alpha*molecule[k][kk].coordinates + molecule[l][ll].alpha*molecule[l][ll].coordinates \n",
    "                                    \n",
    "                                    Ppij = Pij/pij\n",
    "                                    Ppkl = Pkl/pkl\n",
    "                                    \n",
    "                                    PpijPpkl = Ppij - Ppkl\n",
    "                                    PpijPpkl2 = np.dot(PpijPpkl , PpijPpkl)\n",
    "                                    denom = 1.0/pij + 1.0/pkl\n",
    "                                    \n",
    "                                    qij = molecule[i][ii].alpha * molecule[j][jj].alpha / pij\n",
    "                                    qkl = molecule[k][kk].alpha * molecule[l][ll].alpha / pkl\n",
    "                                    \n",
    "                                    Qij = molecule[i][ii].coordinates - molecule[j][jj].coordinates\n",
    "                                    Qkl = molecule[k][kk].coordinates - molecule[l][ll].coordinates\n",
    "                                    \n",
    "                                    Q2ij = np.dot(Qij, Qij)\n",
    "                                    Q2kl = np.dot(Qkl, Qkl)\n",
    "                                    \n",
    "                                    term1 = 2.0*math.pi*math.pi/(pij*pkl)\n",
    "                                    term2 = math.sqrt( math.pi/(pij+pkl))\n",
    "                                    term3 = math.exp(-qij*Q2ij)\n",
    "                                    term4 = math.exp(-qkl*Q2kl)\n",
    "                                    \n",
    "                                    V_ee[i,j,k,l] += N* cicjckcl *term1 * term2 * term3 * term4 * boys(PpijPpkl2/denom,0) # 3 more\n",
    "                                    \n",
    "    return V_ee"
   ]
  },
  {
   "cell_type": "code",
   "execution_count": 23,
   "id": "f77557da",
   "metadata": {},
   "outputs": [],
   "source": [
    "# STO-3G basis for 1s orbital on hydrogen\n",
    "# These are descriptions of atomic orbital basis \n",
    "                            # Alpha,           # coeff            # Coord   # angular momentum\n",
    "H1_pg1a = primitive_gaussian (0.3425250914E+01, 0.1543289673E+00, [0,0,0], 0, 0, 0)\n",
    "H1_pg1b = primitive_gaussian (0.6239137298E+00 , 0.5353281423E+00, [0,0,0], 0, 0, 0)\n",
    "H1_pg1c = primitive_gaussian (0.1688554040E+00, 0.4446345422E+00, [0,0,0], 0, 0, 0)\n",
    "\n",
    "H2_pg1a = primitive_gaussian (0.3425250914E+01, 0.1543289673E+00, [1.4,0,0], 0, 0, 0)\n",
    "H2_pg1b = primitive_gaussian (0.6239137298E+00 , 0.5353281423E+00, [1.4,0,0], 0, 0, 0)\n",
    "H2_pg1c = primitive_gaussian (0.1688554040E+00, 0.4446345422E+00, [1.4,0,0], 0, 0, 0)\n",
    "\n",
    "H1_1s = [H1_pg1a, H1_pg1b, H1_pg1c]  # Describing the atomic orbital with slater function\n",
    "H2_1s = [H2_pg1a, H2_pg1b, H2_pg1c]\n",
    "\n",
    "Z = [1.0, 1.0]\n",
    "atom_coordinates = [np.array([0, 0, 0]), np.array([1.4, 0, 0])]\n",
    "molecule = [H1_1s, H2_1s]"
   ]
  },
  {
   "cell_type": "code",
   "execution_count": 24,
   "id": "56f8069b",
   "metadata": {},
   "outputs": [],
   "source": [
    "e_e_repulsion = electron_electron_repulsion(molecule)"
   ]
  },
  {
   "cell_type": "code",
   "execution_count": 25,
   "id": "e8def42b",
   "metadata": {},
   "outputs": [
    {
     "name": "stdout",
     "output_type": "stream",
     "text": [
      "[[[[0.77460594 0.44410766]\n",
      "   [0.44410766 0.56967593]]\n",
      "\n",
      "  [[0.44410766 0.29702854]\n",
      "   [0.29702854 0.44410766]]]\n",
      "\n",
      "\n",
      " [[[0.44410766 0.29702854]\n",
      "   [0.29702854 0.44410766]]\n",
      "\n",
      "  [[0.56967593 0.44410766]\n",
      "   [0.44410766 0.77460594]]]]\n"
     ]
    }
   ],
   "source": [
    "print(e_e_repulsion)"
   ]
  },
  {
   "cell_type": "code",
   "execution_count": null,
   "id": "7fc750a0",
   "metadata": {},
   "outputs": [],
   "source": []
  }
 ],
 "metadata": {
  "kernelspec": {
   "display_name": "Python 3",
   "language": "python",
   "name": "python3"
  },
  "language_info": {
   "codemirror_mode": {
    "name": "ipython",
    "version": 3
   },
   "file_extension": ".py",
   "mimetype": "text/x-python",
   "name": "python",
   "nbconvert_exporter": "python",
   "pygments_lexer": "ipython3",
   "version": "3.8.8"
  }
 },
 "nbformat": 4,
 "nbformat_minor": 5
}
